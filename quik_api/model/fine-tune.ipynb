{
 "cells": [
  {
   "cell_type": "code",
   "execution_count": 2,
   "id": "fe26dc5d",
   "metadata": {},
   "outputs": [
    {
     "name": "stderr",
     "output_type": "stream",
     "text": [
      "/Library/Frameworks/Python.framework/Versions/3.13/lib/python3.13/site-packages/tqdm/auto.py:21: TqdmWarning: IProgress not found. Please update jupyter and ipywidgets. See https://ipywidgets.readthedocs.io/en/stable/user_install.html\n",
      "  from .autonotebook import tqdm as notebook_tqdm\n"
     ]
    }
   ],
   "source": [
    "from pathlib import Path\n",
    "import pyarrow.parquet as pq\n",
    "from datasets import Dataset\n",
    "import pandas as pd\n",
    "from transformers import AutoProcessor, AutoConfig, AutoModelForCausalLM, Trainer, TrainingArguments\n",
    "# from peft import LoraConfig, get_peft_model\n",
    "\n",
    "import torch\n",
    "import torch.nn as nn\n",
    "import torchvision.transforms as T\n",
    "\n",
    "from torch.utils.data import DataLoader\n",
    "from safetensors.torch import load_file\n"
   ]
  },
  {
   "cell_type": "code",
   "execution_count": 1,
   "id": "6e112811",
   "metadata": {},
   "outputs": [
    {
     "ename": "NameError",
     "evalue": "name 'Path' is not defined",
     "output_type": "error",
     "traceback": [
      "\u001b[31m---------------------------------------------------------------------------\u001b[39m",
      "\u001b[31mNameError\u001b[39m                                 Traceback (most recent call last)",
      "\u001b[36mCell\u001b[39m\u001b[36m \u001b[39m\u001b[32mIn[1]\u001b[39m\u001b[32m, line 1\u001b[39m\n\u001b[32m----> \u001b[39m\u001b[32m1\u001b[39m cwd = \u001b[38;5;28mstr\u001b[39m(\u001b[43mPath\u001b[49m.cwd())\n\u001b[32m      2\u001b[39m filepath = cwd + \u001b[33m\"\u001b[39m\u001b[33m/datasets/train-00000-of-00738-80a58552f2fb3344.parquet\u001b[39m\u001b[33m\"\u001b[39m\n\u001b[32m      3\u001b[39m model_name = \u001b[33m\"\u001b[39m\u001b[33mmicrosoft/phi-3.5-vision-instruct\u001b[39m\u001b[33m\"\u001b[39m\n",
      "\u001b[31mNameError\u001b[39m: name 'Path' is not defined"
     ]
    }
   ],
   "source": [
    "cwd = str(Path.cwd())\n",
    "filepath = cwd + \"/datasets/train-00000-of-00738-80a58552f2fb3344.parquet\"\n",
    "model_name = \"microsoft/phi-3.5-vision-instruct\"\n",
    "model_path = cwd + \"/microsoft/phi-3.5-vision-instruct\"\n",
    "device = torch.device(\"mps\" if torch.mps.is_available() else \"cpu\")\n",
    "config = AutoConfig.from_pretrained(model_name)\n",
    "processor = AutoProcessor.from_pretrained(model_name, trust_remote_code=True)"
   ]
  },
  {
   "cell_type": "code",
   "execution_count": 4,
   "id": "1e413320",
   "metadata": {},
   "outputs": [],
   "source": [
    "def preprocess(example):\n",
    "    img = example.get(\"image\")\n",
    "\n",
    "    messages = [{\n",
    "        \"role\": \"user\",\n",
    "        \"content\": f\"<|image_1|>\\n{example['llm_generated_idea']}\"\n",
    "    }, {\n",
    "        \"role\": \"assistant\",\n",
    "        \"content\": example.get(\"text\", \"Okay\")\n",
    "    }]\n",
    "\n",
    "    prompt = processor.tokenizer.apply_chat_template(\n",
    "        messages,\n",
    "        tokenize=False,\n",
    "        add_generation_prompt=False\n",
    "    )\n",
    "\n",
    "    inputs = processor(prompt, [img], return_tensors=\"pt\")\n",
    "    inputs = {k: v.squeeze(0) for k, v in inputs.items()}\n",
    "    inputs[\"labels\"] = inputs[\"input_ids\"].clone()\n",
    "\n",
    "    return inputs\n"
   ]
  },
  {
   "cell_type": "code",
   "execution_count": 6,
   "id": "7c3135eb",
   "metadata": {},
   "outputs": [],
   "source": [
    "model = AutoModelForCausalLM.from_config(config, attn_implementation=\"eager\", trust_remote_code=True)"
   ]
  },
  {
   "cell_type": "code",
   "execution_count": 18,
   "id": "882cd6ef",
   "metadata": {},
   "outputs": [
    {
     "name": "stderr",
     "output_type": "stream",
     "text": [
      "Map: 100%|██████████| 2606/2606 [01:22<00:00, 31.76 examples/s]\n"
     ]
    }
   ],
   "source": [
    "dataset = Dataset.from_parquet(filepath)\n",
    "dataset = dataset.map(preprocess, remove_columns=[\"image\", \"llm_generated_idea\", \"text\"])"
   ]
  },
  {
   "cell_type": "code",
   "execution_count": null,
   "id": "95d9da32",
   "metadata": {},
   "outputs": [],
   "source": [
    "dataset[0]"
   ]
  },
  {
   "cell_type": "code",
   "execution_count": null,
   "id": "787b53c6",
   "metadata": {},
   "outputs": [],
   "source": [
    "training_args = TrainingArguments(\n",
    "    output_dir=\"test_trainer\",\n",
    "    per_device_train_batch_size=1,\n",
    "    gradient_accumulation_steps=4\n",
    ")\n",
    "\n",
    "trainer = Trainer(\n",
    "    model=model,\n",
    "    args=training_args,\n",
    "    train_dataset=dataset\n",
    ")"
   ]
  }
 ],
 "metadata": {
  "kernelspec": {
   "display_name": "Python 3",
   "language": "python",
   "name": "python3"
  },
  "language_info": {
   "codemirror_mode": {
    "name": "ipython",
    "version": 3
   },
   "file_extension": ".py",
   "mimetype": "text/x-python",
   "name": "python",
   "nbconvert_exporter": "python",
   "pygments_lexer": "ipython3",
   "version": "3.13.5"
  }
 },
 "nbformat": 4,
 "nbformat_minor": 5
}
