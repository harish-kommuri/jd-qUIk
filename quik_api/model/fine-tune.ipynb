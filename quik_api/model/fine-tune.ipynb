{
 "cells": [
  {
   "cell_type": "code",
   "execution_count": 28,
   "id": "fe26dc5d",
   "metadata": {},
   "outputs": [],
   "source": [
    "import pandas as pd\n",
    "from pathlib import Path\n",
    "import pyarrow.parquet as pq\n",
    "from datasets import Dataset\n",
    "from transformers import AutoProcessor\n",
    "import torch\n"
   ]
  },
  {
   "cell_type": "code",
   "execution_count": 42,
   "id": "6e112811",
   "metadata": {},
   "outputs": [],
   "source": [
    "cwd = str(Path.cwd())\n",
    "filepath = cwd + \"/datasets/train-00000-of-00738-80a58552f2fb3344.parquet\"\n",
    "\n",
    "model = cwd + \"/microsoft/phi-3.5-vision-instruct\"\n",
    "processor = AutoProcessor.from_pretrained(model, trust_remote_code=True)"
   ]
  },
  {
   "cell_type": "code",
   "execution_count": null,
   "id": "1e413320",
   "metadata": {},
   "outputs": [],
   "source": [
    "def preprocess(example):\n",
    "    img = example.get(\"image\")\n",
    "\n",
    "    messages = [{\n",
    "        \"role\": \"user\",\n",
    "        \"content\": f\"<|image_1|>\\n{example['llm_generated_idea']}\"\n",
    "    }, {\n",
    "        \"role\": \"assistant\",\n",
    "        \"content\": example.get(\"text\", \"Okay\")\n",
    "    }]\n",
    "\n",
    "    prompt = processor.tokenizer.apply_chat_template(\n",
    "        messages,\n",
    "        tokenize=False,\n",
    "        add_generation_prompt=False\n",
    "    )\n",
    "\n",
    "    inputs = processor(prompt, [img], return_tensors=\"pt\")\n",
    "    inputs = {k: v.squeeze(0) for k, v in inputs.items()}\n",
    "    inputs[\"labels\"] = inputs[\"input_ids\"].clone()\n",
    "\n",
    "    return inputs\n"
   ]
  },
  {
   "cell_type": "code",
   "execution_count": 47,
   "id": "787b53c6",
   "metadata": {},
   "outputs": [
    {
     "name": "stderr",
     "output_type": "stream",
     "text": [
      "Map:   3%|▎         | 68/2606 [00:02<01:43, 24.54 examples/s]"
     ]
    },
    {
     "ename": "",
     "evalue": "",
     "output_type": "error",
     "traceback": [
      "\u001b[1;31mThe Kernel crashed while executing code in the current cell or a previous cell. \n",
      "\u001b[1;31mPlease review the code in the cell(s) to identify a possible cause of the failure. \n",
      "\u001b[1;31mClick <a href='https://aka.ms/vscodeJupyterKernelCrash'>here</a> for more info. \n",
      "\u001b[1;31mView Jupyter <a href='command:jupyter.viewOutput'>log</a> for further details."
     ]
    }
   ],
   "source": [
    "dataset = Dataset.from_parquet(filepath)\n",
    "dataset = dataset.map(preprocess, remove_columns=[\"image\", \"llm_generated_idea\", \"text\"])"
   ]
  },
  {
   "cell_type": "code",
   "execution_count": null,
   "id": "2854aeb4",
   "metadata": {},
   "outputs": [],
   "source": []
  }
 ],
 "metadata": {
  "kernelspec": {
   "display_name": "3.9.23",
   "language": "python",
   "name": "python3"
  },
  "language_info": {
   "codemirror_mode": {
    "name": "ipython",
    "version": 3
   },
   "file_extension": ".py",
   "mimetype": "text/x-python",
   "name": "python",
   "nbconvert_exporter": "python",
   "pygments_lexer": "ipython3",
   "version": "3.9.23"
  }
 },
 "nbformat": 4,
 "nbformat_minor": 5
}
